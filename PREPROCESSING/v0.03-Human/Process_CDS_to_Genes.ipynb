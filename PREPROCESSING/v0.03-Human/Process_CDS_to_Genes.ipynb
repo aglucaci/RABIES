{
 "cells": [
  {
   "cell_type": "code",
   "execution_count": 4,
   "id": "disciplinary-reynolds",
   "metadata": {},
   "outputs": [],
   "source": [
    "# Imports\n",
    "import sys, os\n",
    "from Bio import SeqIO"
   ]
  },
  {
   "cell_type": "code",
   "execution_count": 5,
   "id": "80563ef5",
   "metadata": {},
   "outputs": [
    {
     "data": {
      "text/plain": [
       "'\\n\\n@Author: Alexander G Lucaci\\n\\nTakes a ViPR CDS fasta file, which consists of all of the genes in the genome and splits into into 1 file per gene.\\nInput is the large fasta, outputs multiple fasta files.\\n'"
      ]
     },
     "execution_count": 5,
     "metadata": {},
     "output_type": "execute_result"
    }
   ],
   "source": [
    "\"\"\"\n",
    "\n",
    "@Author: Alexander G Lucaci\n",
    "\n",
    "Takes a ViPR CDS fasta file, which consists of all of the genes in the genome and splits into into 1 file per gene.\n",
    "Input is the large fasta, outputs multiple fasta files.\n",
    "\"\"\""
   ]
  },
  {
   "cell_type": "code",
   "execution_count": 6,
   "id": "unnecessary-biography",
   "metadata": {},
   "outputs": [],
   "source": [
    "# Declares\n",
    "CDS_File = \"65775168035-CdsFastaResults.fasta\""
   ]
  },
  {
   "cell_type": "code",
   "execution_count": 8,
   "id": "light-insulin",
   "metadata": {},
   "outputs": [],
   "source": [
    "# Helper functions\n",
    "def read_fasta(file, gene):\n",
    "    records_to_keep = []\n",
    "    with open(file, \"r\") as prot_handle:\n",
    "        for n, record in enumerate(SeqIO.parse(prot_handle, \"fasta\")):\n",
    "            # Grab data from record\n",
    "            ID = record.id \n",
    "            DESC = record.description\n",
    "            #SEQ = record.seq\n",
    "        \n",
    "            # Exclude, some ambigutities.\n",
    "            # Gene Symbol:NS\n",
    "            # Gene Symbol:M1\n",
    "            # Gene Symbol:M2\n",
    "            # gb:KC171643:5414-11797|Organism:Rabies virus|Strain Name:08F40|Protein Name:polymerase|Gene Symbol:P\n",
    "            \n",
    "            exclusion_list = [\"Gene Symbol:NS\", \"Gene Symbol:M1\", \"Gene Symbol:M2\", \"KC171643:5414-11797\"]\n",
    "            exclude = False\n",
    "            for item in exclusion_list:\n",
    "                if item in DESC or item in ID:\n",
    "                    exclude = True\n",
    "                #end if\n",
    "            #end for\n",
    "            \n",
    "            if gene in DESC:\n",
    "                if exclude == False:\n",
    "                    records_to_keep.append(record)\n",
    "                #end if\n",
    "            #end if\n",
    "        #end for\n",
    "    #end with\n",
    "    \n",
    "    write_fasta(records_to_keep, gene)\n",
    "#end method\n",
    "\n",
    "def write_fasta(records, gene):\n",
    "    print(\"# Writing out\", gene, \"with\", len(records), \"records\")\n",
    "    output_file = \"Rables_Lyssavirus_\" + gene.replace(\"Gene Symbol:\", \"\") + \".fasta\"\n",
    "    \n",
    "    SeqIO.write(records, output_file, \"fasta\")\n",
    "    #end method\n"
   ]
  },
  {
   "cell_type": "code",
   "execution_count": 9,
   "id": "biological-novelty",
   "metadata": {
    "scrolled": false
   },
   "outputs": [
    {
     "name": "stdout",
     "output_type": "stream",
     "text": [
      "# Writing out Gene Symbol:N with 238 records\n",
      "# Writing out Gene Symbol:P with 29 records\n",
      "# Writing out Gene Symbol:M with 28 records\n",
      "# Writing out Gene Symbol:G with 122 records\n",
      "# Writing out Gene Symbol:L with 30 records\n"
     ]
    }
   ],
   "source": [
    "# Main\n",
    "\n",
    "# Gene Symbol:M\n",
    "# Gene Symbol:G\n",
    "# Gene Symbol:P\n",
    "# Gene Symbol:L\n",
    "# Gene Symbol:N\n",
    "\n",
    "search_criteria = [\"Gene Symbol:N\", \"Gene Symbol:P\", \"Gene Symbol:M\", \"Gene Symbol:G\", \"Gene Symbol:L\"]\n",
    "for gene in search_criteria:\n",
    "    read_fasta(CDS_File, gene)\n",
    "    \n",
    "    \n",
    "    "
   ]
  },
  {
   "cell_type": "code",
   "execution_count": null,
   "id": "amazing-sending",
   "metadata": {},
   "outputs": [],
   "source": [
    "# End of file"
   ]
  }
 ],
 "metadata": {
  "kernelspec": {
   "display_name": "Python 3",
   "language": "python",
   "name": "python3"
  },
  "language_info": {
   "codemirror_mode": {
    "name": "ipython",
    "version": 3
   },
   "file_extension": ".py",
   "mimetype": "text/x-python",
   "name": "python",
   "nbconvert_exporter": "python",
   "pygments_lexer": "ipython3",
   "version": "3.7.10"
  }
 },
 "nbformat": 4,
 "nbformat_minor": 5
}
